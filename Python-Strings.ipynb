{
 "cells": [
  {
   "cell_type": "code",
   "execution_count": 4,
   "metadata": {},
   "outputs": [
    {
     "name": "stdout",
     "output_type": "stream",
     "text": [
      "Symetrical\n",
      "Pallindrome\n"
     ]
    }
   ],
   "source": [
    "s=\"amaama\"\n",
    "\n",
    "def symetrical(s):\n",
    "    if len(s)%2==0:\n",
    "        mid=len(s)//2\n",
    "    else:\n",
    "        mid=(len(s)//2)+1\n",
    "    if s[:mid]==s[mid:]:\n",
    "        return \"Symetrical\"\n",
    "    else:\n",
    "        return \"Not Symetrical\"\n",
    "\n",
    "def pallindrome(s):\n",
    "    return s==s[::-1]\n",
    "print(symetrical(s))\n",
    "if pallindrome(s):\n",
    "    print(\"Pallindrome\")\n",
    "else:\n",
    "    print(\"Not Pallindrome\")\n"
   ]
  },
  {
   "cell_type": "code",
   "execution_count": 10,
   "metadata": {},
   "outputs": [
    {
     "name": "stdout",
     "output_type": "stream",
     "text": [
      "leeks for geeks\n"
     ]
    }
   ],
   "source": [
    "s=\"geeks for leeks\"\n",
    "def reverse_words(s):\n",
    "    # s=s.split(' ')\n",
    "    # s=s[::-1]\n",
    "    s=' '.join(s.split()[::-1])\n",
    "    return s\n",
    "\n",
    "print(reverse_words(s))"
   ]
  }
 ],
 "metadata": {
  "kernelspec": {
   "display_name": "Python 3",
   "language": "python",
   "name": "python3"
  },
  "language_info": {
   "codemirror_mode": {
    "name": "ipython",
    "version": 3
   },
   "file_extension": ".py",
   "mimetype": "text/x-python",
   "name": "python",
   "nbconvert_exporter": "python",
   "pygments_lexer": "ipython3",
   "version": "3.11.9"
  }
 },
 "nbformat": 4,
 "nbformat_minor": 2
}
