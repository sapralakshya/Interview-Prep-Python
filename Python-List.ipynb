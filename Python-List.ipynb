{
 "cells": [
  {
   "cell_type": "code",
   "execution_count": 1,
   "metadata": {},
   "outputs": [
    {
     "name": "stdout",
     "output_type": "stream",
     "text": [
      "[10, 5, 7, 9, 2]\n"
     ]
    }
   ],
   "source": [
    "def list_interchange(list1):\n",
    "    list1[0],list1[-1]=list1[-1],list1[0]\n",
    "    return list1\n",
    "\n",
    "list1=[2,5,7,9,10]\n",
    "print(list_interchange(list1))\n"
   ]
  },
  {
   "cell_type": "code",
   "execution_count": 3,
   "metadata": {},
   "outputs": [
    {
     "name": "stdout",
     "output_type": "stream",
     "text": [
      "[18, 10, 5, 3]\n"
     ]
    }
   ],
   "source": [
    "def list_reverse(list2):\n",
    "    i=0\n",
    "    j=len(list2)-1\n",
    "    while i<j:\n",
    "        list2[i],list2[j]=list2[j],list2[i]\n",
    "        i=i+1\n",
    "        j=j-1\n",
    "    return list2\n",
    "\n",
    "list2=[3,5,10,18]\n",
    "print(list_reverse(list2))"
   ]
  },
  {
   "cell_type": "code",
   "execution_count": 15,
   "metadata": {},
   "outputs": [
    {
     "name": "stdout",
     "output_type": "stream",
     "text": [
      "[2, 8, 6, 10]\n"
     ]
    }
   ],
   "source": [
    "def list_removeDuplicates(list3):\n",
    "    j=0\n",
    "    for i in range(0,len(list3)):\n",
    "        i=j\n",
    "        cnt=list3.count(list3[i])\n",
    "        if cnt>1:\n",
    "            list3.pop(i)\n",
    "            j=i\n",
    "        else:\n",
    "            j=j+1\n",
    "    return list3\n",
    "\n",
    "list3=[2,8,6,6,10]\n",
    "print(list_removeDuplicates(list3))"
   ]
  }
 ],
 "metadata": {
  "kernelspec": {
   "display_name": "Python 3",
   "language": "python",
   "name": "python3"
  },
  "language_info": {
   "codemirror_mode": {
    "name": "ipython",
    "version": 3
   },
   "file_extension": ".py",
   "mimetype": "text/x-python",
   "name": "python",
   "nbconvert_exporter": "python",
   "pygments_lexer": "ipython3",
   "version": "3.11.9"
  }
 },
 "nbformat": 4,
 "nbformat_minor": 2
}
